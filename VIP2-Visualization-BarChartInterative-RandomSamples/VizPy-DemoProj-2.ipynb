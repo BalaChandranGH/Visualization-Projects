{
 "cells": [
  {
   "cell_type": "markdown",
   "metadata": {},
   "source": [
    "# Table of Contents\n",
    "```\n",
    "1. Business Understanding\n",
    "   1.1. Project Description\n",
    "2. Data Understanding\n",
    "   2.1. Import Libraries, Modules, Functions, Objects, etc.\n",
    "   2.2. User Defined Functions (UDFs)\n",
    "   2.3. Data Loading\n",
    "   2.4. Exploratory Data Analysis (EDA)\n",
    "        2.4.1. Understand the data with Descriptive Statistics on the raw data\n",
    "3. Research\n",
    "4. Data Preprocessing\n",
    "5. Visualizations\n",
    "   5.1. Solution 1: Building a custom visualization to implement the bar coloring\n",
    "   5.2. Solution 2: Building a custom visualization to implement interactivity\n",
    "```"
   ]
  },
  {
   "cell_type": "markdown",
   "metadata": {},
   "source": [
    "# 1. Business Understanding"
   ]
  },
  {
   "cell_type": "markdown",
   "metadata": {},
   "source": [
    "## 1.1. Project Description"
   ]
  },
  {
   "cell_type": "markdown",
   "metadata": {},
   "source": [
    "**`Problem Statement`**: \n",
    "\n",
    "&nbsp;&nbsp;&nbsp;&nbsp;&nbsp;&nbsp;This project is based on the paper written by Ferreira, N., Fisher, D., & Konig, A. C. (2014, April). [Sample-oriented task-driven visualizations: allowing users to make better, more confident decisions.](https://www.microsoft.com/en-us/research/wp-content/uploads/2016/02Ferreira_Fisher_Sample_Oriented_Tasks.pdf) \n",
    "\n",
    "&nbsp;&nbsp;&nbsp;&nbsp;&nbsp;&nbsp;In this paper the authors describe the challenges users face when trying to make judgements about probabilistic data generated through samples. As an example, they look at a bar chart of four years of data (replicated below in Figure 1). Each year has a y-axis value, which is derived from a sample of a larger dataset. For instance, the first value might be the number votes in a given district or riding for 1992, with the average being around 33,000. On top of this is plotted the 95% confidence interval for the mean.\n",
    "\n",
    "<img src='data/Fig1.png' alt='Figure 1' style='width: 400px;' />\n",
    "<h4 style=\"text-align: left;\" markdown=\"1\"> &nbsp;&nbsp;&nbsp;&nbsp;&nbsp;&nbsp;Figure 1 from (Ferreira et al, 2014): A bar chart with 95% confidence intervals representing the mean value over a dataset. <br> &nbsp;&nbsp;&nbsp;&nbsp;&nbsp;&nbsp;Note the overlapping regions in 1992-1994. </h4>\n",
    "<br>\n",
    "\n",
    "&nbsp;&nbsp;&nbsp;&nbsp;&nbsp;&nbsp;A challenge that users face is that, for a given y-axis value (e.g. 42,000), it is difficult to know which x-axis values are most likely to be representative, because the confidence levels overlap and their distributions are different (the lengths of the confidence interval bars are unequal). One of the solutions the authors propose for this problem is to allow users to indicate the y-axis value of interest (e.g. 42,000) and then draw a horizontal line and color bars based on this value. So bars might be colored red if they are definitely above this value (given the confidence interval), blue if they are definitely below this value, or white if they contain this value.\n",
    "\n",
    "`Solution 1: Build a custom visualization to implement bar coloring`\n",
    "* A color scale with only three colors, (e.g. blue, white, and red). Assume the user provides the y-axis value of interest as a parameter or variable.\n",
    "\n",
    "`Solution 2: Build a custom visualization to implement interactivity`\n",
    "* Allow the user to interactively set a range of y-values they are interested in, and recolor the bars based on this (e.g., a y-axis band).\n",
    "\n",
    "**`Type of the problem`**: Visualization - Bar chart with confidence intervals\n",
    "\n",
    "**`Data source`**: Ferreira, N., Fisher, D., & Konig, A. C. (2014, April). [Sample-oriented task-driven visualizations: allowing users to make better, more confident decisions.](https://www.microsoft.com/en-us/research/wp-content/uploads/2016/02Ferreira_Fisher_Sample_Oriented_Tasks.pdf) \n",
    "\n",
    "**`Author`**: Balasubramanian Chandran"
   ]
  },
  {
   "cell_type": "markdown",
   "metadata": {},
   "source": [
    "# 2. Data Understanding"
   ]
  },
  {
   "cell_type": "markdown",
   "metadata": {},
   "source": [
    "## 2.1. Import Libraries, Modules, Functions, Objects, etc."
   ]
  },
  {
   "cell_type": "code",
   "execution_count": 1,
   "metadata": {},
   "outputs": [],
   "source": [
    "import pandas              as pd\n",
    "import numpy               as np\n",
    "import matplotlib.pyplot   as plt\n",
    "\n",
    "from scipy.stats           import sem, t, ttest_ind"
   ]
  },
  {
   "cell_type": "markdown",
   "metadata": {},
   "source": [
    "## 2.2. User Defined Functions (UDFs)"
   ]
  },
  {
   "cell_type": "code",
   "execution_count": 2,
   "metadata": {},
   "outputs": [],
   "source": [
    "###     Funtion for SOLUTION 1     ###\n",
    "# Define a function to calculate the Mean Error\n",
    "def mean_err(data):\n",
    "    semval = sem(data)                               # Calculate the Standard Error of the Means\n",
    "    tval   = t.ppf((1 + ci) / 2, (len(data) - 1))    # Calculate the T value at the Confidence Interval\n",
    "    merr   = (semval * tval)                         # Calculate the Mean Error\n",
    "    return merr\n",
    "\n",
    "###     Functions for SOLUTION 2     ###\n",
    "# Define a function to draw the base plot\n",
    "def plot(df):\n",
    "    dfT       = df.T\n",
    "    merr      = mean_err(dfT)\n",
    "    fig, ax   = plt.subplots()\n",
    "    df_desc   = dfT.describe()\n",
    "    err_range = pd.DataFrame([(df_desc.loc['mean'] + merr), (df_desc.loc['mean'] - merr)])\n",
    "    return fig, ax, dfT, merr, err_range\n",
    "\n",
    "# Define a function to update the plot with user inputs\n",
    "def update(color = ['lightgray' for _ in range(4)]):\n",
    "    ax.bar(range(1,5,1),\n",
    "           [dfT[i].mean() for i in index],\n",
    "           width    = 0.95,\n",
    "           yerr     = merr,\n",
    "           error_kw = dict(ecolor='black', lw=1, capsize=10, capthick=1),\n",
    "           color    = color)\n",
    "    plt.xticks(range(1,5,1), index)\n",
    "\n",
    "# Define a function to recolor the bars by doing a t-test to check if the selected range is similar to the 95% confidence interval range of each mean \n",
    "def recolor(yrange):\n",
    "    color = []\n",
    "    for item in err_range:\n",
    "        s, p = ttest_ind(err_range[item], yrange)\n",
    "        color.append(((1 - p), 0, p, 0.9))\n",
    "    update(color)\n",
    "\n",
    "'''\n",
    "# Interactive functionality code starts ...     \n",
    "# Define a function to trace a click event\n",
    "def onclick(event):\n",
    "    global click_count\n",
    "    global prev, level, yrange\n",
    "\n",
    "    plt.cla()\n",
    "    update()\n",
    "    level = event.ydata\n",
    "    plt.axhline(level, lw=1, c='gray', alpha=0.3)\n",
    "    plt.gca().set_title('y = {} \\n Click on the plot for the 2nd data point in the range...'.format(event.ydata), \n",
    "                        fontsize='small', color='blue')\n",
    "    \n",
    "    if click_count == 0:\n",
    "        click_count += 1\n",
    "        prev = level\n",
    "    else:\n",
    "        yrange = pd.Series([prev, level])\n",
    "        plt.gca().set_title('Data for the years 2016 - 2019\\nSelected range = [{}, {}]'.\n",
    "                            format(yrange[0].astype('int'), yrange[1].astype('int')),\n",
    "                            fontsize='xx-large', color='black', alpha = 0.8)\n",
    "        click_count = 0\n",
    "        recolor(yrange)\n",
    "        plt.axhspan(prev, level, alpha=0.3, color='gray')\n",
    "# ... Interactive functionality code ends\n",
    "'''\n",
    "\n",
    "def oninput(yval1, yval2):\n",
    "    plt.axhline(yval1, lw=1,c='gray', alpha=0.3)\n",
    "    yrange = np.array([yval1, yval2])\n",
    "    plt.gca().set_title('Data for the years 2016 - 2019\\nSelected range =  [{}, {}]'.\n",
    "                        format(yrange[0].astype('int'), yrange[1].astype('int')),\n",
    "                        fontsize='x-large', color='black', alpha=0.8)\n",
    "    recolor(yrange)\n",
    "    plt.axhspan(yval1, yval2, alpha=0.3, color='gray')"
   ]
  },
  {
   "cell_type": "markdown",
   "metadata": {},
   "source": [
    "## 2.3. Data Loading"
   ]
  },
  {
   "cell_type": "code",
   "execution_count": 3,
   "metadata": {},
   "outputs": [],
   "source": [
    "# Use the following data for this project - Draw random samples from a normal (Gaussian) distribution\n",
    "np.random.seed(12345)\n",
    "index = [2016,2017,2018,2019]\n",
    "df = pd.DataFrame([np.random.normal(32000,200000,3650), \n",
    "                   np.random.normal(43000,100000,3650), \n",
    "                   np.random.normal(43500,140000,3650), \n",
    "                   np.random.normal(48000,70000,3650)], \n",
    "                   index= index)"
   ]
  },
  {
   "cell_type": "markdown",
   "metadata": {},
   "source": [
    "## 2.4. Exploratory Data Analysis (EDA)"
   ]
  },
  {
   "cell_type": "markdown",
   "metadata": {},
   "source": [
    "### 2.4.1. Understand the data with Descriptive Statistics on the raw data"
   ]
  },
  {
   "cell_type": "code",
   "execution_count": 4,
   "metadata": {},
   "outputs": [
    {
     "name": "stdout",
     "output_type": "stream",
     "text": [
      "Dimensions of the dataset:\n",
      "(4, 3650) \n",
      "\n"
     ]
    },
    {
     "data": {
      "text/html": [
       "<div>\n",
       "<style scoped>\n",
       "    .dataframe tbody tr th:only-of-type {\n",
       "        vertical-align: middle;\n",
       "    }\n",
       "\n",
       "    .dataframe tbody tr th {\n",
       "        vertical-align: top;\n",
       "    }\n",
       "\n",
       "    .dataframe thead th {\n",
       "        text-align: right;\n",
       "    }\n",
       "</style>\n",
       "<table border=\"1\" class=\"dataframe\">\n",
       "  <thead>\n",
       "    <tr style=\"text-align: right;\">\n",
       "      <th></th>\n",
       "      <th>0</th>\n",
       "      <th>1</th>\n",
       "      <th>2</th>\n",
       "      <th>3</th>\n",
       "      <th>4</th>\n",
       "      <th>5</th>\n",
       "      <th>6</th>\n",
       "      <th>7</th>\n",
       "      <th>8</th>\n",
       "      <th>9</th>\n",
       "      <th>...</th>\n",
       "      <th>3640</th>\n",
       "      <th>3641</th>\n",
       "      <th>3642</th>\n",
       "      <th>3643</th>\n",
       "      <th>3644</th>\n",
       "      <th>3645</th>\n",
       "      <th>3646</th>\n",
       "      <th>3647</th>\n",
       "      <th>3648</th>\n",
       "      <th>3649</th>\n",
       "    </tr>\n",
       "  </thead>\n",
       "  <tbody>\n",
       "    <tr>\n",
       "      <th>2016</th>\n",
       "      <td>-8941.531897</td>\n",
       "      <td>127788.667612</td>\n",
       "      <td>-71887.743011</td>\n",
       "      <td>-79146.060869</td>\n",
       "      <td>425156.114501</td>\n",
       "      <td>310681.166595</td>\n",
       "      <td>50581.575349</td>\n",
       "      <td>88349.230566</td>\n",
       "      <td>185804.513522</td>\n",
       "      <td>281286.947277</td>\n",
       "      <td>...</td>\n",
       "      <td>171938.760289</td>\n",
       "      <td>150650.759924</td>\n",
       "      <td>203663.976475</td>\n",
       "      <td>-377877.158072</td>\n",
       "      <td>-197214.093861</td>\n",
       "      <td>24185.008589</td>\n",
       "      <td>-56826.729535</td>\n",
       "      <td>-67319.766489</td>\n",
       "      <td>113377.299342</td>\n",
       "      <td>-4494.878538</td>\n",
       "    </tr>\n",
       "    <tr>\n",
       "      <th>2017</th>\n",
       "      <td>-51896.094813</td>\n",
       "      <td>198350.518755</td>\n",
       "      <td>-123518.252821</td>\n",
       "      <td>-129916.759685</td>\n",
       "      <td>216119.147314</td>\n",
       "      <td>49845.883728</td>\n",
       "      <td>149135.648505</td>\n",
       "      <td>62807.672113</td>\n",
       "      <td>23365.577348</td>\n",
       "      <td>-109686.264981</td>\n",
       "      <td>...</td>\n",
       "      <td>-44566.520071</td>\n",
       "      <td>101032.122475</td>\n",
       "      <td>117648.199945</td>\n",
       "      <td>160475.622607</td>\n",
       "      <td>-13759.888342</td>\n",
       "      <td>-37333.493572</td>\n",
       "      <td>103019.841174</td>\n",
       "      <td>179746.127403</td>\n",
       "      <td>13455.493990</td>\n",
       "      <td>34442.898855</td>\n",
       "    </tr>\n",
       "    <tr>\n",
       "      <th>2018</th>\n",
       "      <td>152336.932066</td>\n",
       "      <td>192947.128056</td>\n",
       "      <td>389950.263156</td>\n",
       "      <td>-93006.152024</td>\n",
       "      <td>100818.575896</td>\n",
       "      <td>5529.230706</td>\n",
       "      <td>-32989.370488</td>\n",
       "      <td>223942.967178</td>\n",
       "      <td>-66721.580898</td>\n",
       "      <td>47826.269111</td>\n",
       "      <td>...</td>\n",
       "      <td>165085.806360</td>\n",
       "      <td>74735.174090</td>\n",
       "      <td>107329.726875</td>\n",
       "      <td>199250.734156</td>\n",
       "      <td>-36792.202754</td>\n",
       "      <td>-71861.846997</td>\n",
       "      <td>26375.113219</td>\n",
       "      <td>-29328.078384</td>\n",
       "      <td>65858.761714</td>\n",
       "      <td>-91542.001049</td>\n",
       "    </tr>\n",
       "    <tr>\n",
       "      <th>2019</th>\n",
       "      <td>-69708.439062</td>\n",
       "      <td>-13289.977022</td>\n",
       "      <td>-30178.390991</td>\n",
       "      <td>55052.181256</td>\n",
       "      <td>152883.621657</td>\n",
       "      <td>12930.835194</td>\n",
       "      <td>63700.461932</td>\n",
       "      <td>64148.489835</td>\n",
       "      <td>-29316.268556</td>\n",
       "      <td>59645.677367</td>\n",
       "      <td>...</td>\n",
       "      <td>-13901.388118</td>\n",
       "      <td>50173.686673</td>\n",
       "      <td>53965.990717</td>\n",
       "      <td>4128.990173</td>\n",
       "      <td>72202.595138</td>\n",
       "      <td>39937.199964</td>\n",
       "      <td>139472.114293</td>\n",
       "      <td>59386.186379</td>\n",
       "      <td>73362.229590</td>\n",
       "      <td>28705.082908</td>\n",
       "    </tr>\n",
       "  </tbody>\n",
       "</table>\n",
       "<p>4 rows × 3650 columns</p>\n",
       "</div>"
      ],
      "text/plain": [
       "               0              1              2              3     \\\n",
       "2016   -8941.531897  127788.667612  -71887.743011  -79146.060869   \n",
       "2017  -51896.094813  198350.518755 -123518.252821 -129916.759685   \n",
       "2018  152336.932066  192947.128056  389950.263156  -93006.152024   \n",
       "2019  -69708.439062  -13289.977022  -30178.390991   55052.181256   \n",
       "\n",
       "               4              5              6              7     \\\n",
       "2016  425156.114501  310681.166595   50581.575349   88349.230566   \n",
       "2017  216119.147314   49845.883728  149135.648505   62807.672113   \n",
       "2018  100818.575896    5529.230706  -32989.370488  223942.967178   \n",
       "2019  152883.621657   12930.835194   63700.461932   64148.489835   \n",
       "\n",
       "               8              9     ...           3640           3641  \\\n",
       "2016  185804.513522  281286.947277  ...  171938.760289  150650.759924   \n",
       "2017   23365.577348 -109686.264981  ...  -44566.520071  101032.122475   \n",
       "2018  -66721.580898   47826.269111  ...  165085.806360   74735.174090   \n",
       "2019  -29316.268556   59645.677367  ...  -13901.388118   50173.686673   \n",
       "\n",
       "               3642           3643           3644          3645  \\\n",
       "2016  203663.976475 -377877.158072 -197214.093861  24185.008589   \n",
       "2017  117648.199945  160475.622607  -13759.888342 -37333.493572   \n",
       "2018  107329.726875  199250.734156  -36792.202754 -71861.846997   \n",
       "2019   53965.990717    4128.990173   72202.595138  39937.199964   \n",
       "\n",
       "               3646           3647           3648          3649  \n",
       "2016  -56826.729535  -67319.766489  113377.299342  -4494.878538  \n",
       "2017  103019.841174  179746.127403   13455.493990  34442.898855  \n",
       "2018   26375.113219  -29328.078384   65858.761714 -91542.001049  \n",
       "2019  139472.114293   59386.186379   73362.229590  28705.082908  \n",
       "\n",
       "[4 rows x 3650 columns]"
      ]
     },
     "execution_count": 4,
     "metadata": {},
     "output_type": "execute_result"
    }
   ],
   "source": [
    "print('Dimensions of the dataset:')\n",
    "print(df.shape, '\\n')\n",
    "df"
   ]
  },
  {
   "cell_type": "markdown",
   "metadata": {},
   "source": [
    "# 3. Research"
   ]
  },
  {
   "cell_type": "markdown",
   "metadata": {},
   "source": [
    "During this stage, a study on the type(s) of graphs/ charts/ plots to be used is determined. In this project, the bar chart with confidence interval is given as part of the problem statement itself. Hence, no stydy needs to be done."
   ]
  },
  {
   "cell_type": "markdown",
   "metadata": {},
   "source": [
    "# 4. Data Preprocessing"
   ]
  },
  {
   "cell_type": "code",
   "execution_count": 5,
   "metadata": {},
   "outputs": [],
   "source": [
    "ci = 0.95                                            # Confidence Interval is 95%\n",
    "\n",
    "# Create an array for the Mean values for the years 2016 - 2019\n",
    "a_mean = (np.array(df.iloc[0,:]).mean(),             # for 2016\n",
    "          np.array(df.iloc[1,:]).mean(),             # for 2017\n",
    "          np.array(df.iloc[2,:]).mean(),             # for 2018\n",
    "          np.array(df.iloc[3,:]).mean())             # for 2019\n",
    "\n",
    "# Create an array for the Mean Errors for the years 2016 - 2019\n",
    "a_merr = (mean_err(np.array(df.iloc[0,:])),          # for 2016\n",
    "          mean_err(np.array(df.iloc[1,:])),          # for 2017\n",
    "          mean_err(np.array(df.iloc[2,:])),          # for 2018\n",
    "          mean_err(np.array(df.iloc[3,:])))          # for 2019"
   ]
  },
  {
   "cell_type": "markdown",
   "metadata": {},
   "source": [
    "# 5. Visualizations"
   ]
  },
  {
   "cell_type": "markdown",
   "metadata": {},
   "source": [
    "## 5.1. Solution 1: Building a custom visualization to implement bar coloring"
   ]
  },
  {
   "cell_type": "code",
   "execution_count": 6,
   "metadata": {},
   "outputs": [
    {
     "name": "stdin",
     "output_type": "stream",
     "text": [
      "Enter the Y-axis value:  41000\n"
     ]
    },
    {
     "name": "stdout",
     "output_type": "stream",
     "text": [
      "\n",
      "\n"
     ]
    },
    {
     "data": {
      "image/png": "[encoded data removed]",
      "text/plain": [
       "<Figure size 432x288 with 1 Axes>"
      ]
     },
     "metadata": {
      "needs_background": "light"
     },
     "output_type": "display_data"
    }
   ],
   "source": [
    "yval = input('Enter the Y-axis value: ')\n",
    "yval = int(float(yval))\n",
    "print('\\n')\n",
    "\n",
    "clr = []\n",
    "for i, j in zip(a_mean, a_merr):\n",
    "    if (i + j > yval) and (i - j > yval):\n",
    "        clr.append(\"red\")\n",
    "    elif (i + j < yval) and (i - j < yval):\n",
    "        clr.append(\"blue\")\n",
    "    else:\n",
    "        clr.append(\"white\")\n",
    "\n",
    "fig = plt.figure()\n",
    "ax  = fig.add_subplot(111)\n",
    "\n",
    "ax.bar(x=(1, 2, 3, 4), \n",
    "       height=a_mean, \n",
    "       yerr=a_merr, \n",
    "       tick_label=[\"2016\", \"2017\", \"2018\", \"2019\"],\n",
    "       capsize=5,\n",
    "       color=clr,\n",
    "       edgecolor=\"black\")\n",
    "\n",
    "plt.title(\"Data for the years 2016 to 2019\", fontsize=\"x-large\", alpha=0.8)\n",
    "ax.set_xlabel(\"Years\", fontsize='large', alpha=0.8)\n",
    "ax.set_ylabel(\"Data Value\", fontsize='large', alpha=0.8)\n",
    "ax.tick_params(left=True, top=False, right=False, bottom=False)\n",
    "ax.axhline(yval, color=\"green\", linewidth=1, alpha=0.6)\n",
    "ax.text(1.02, yval, yval, va='center', ha=\"left\", bbox=dict(facecolor=\"w\",alpha=0.5),\n",
    "        transform=ax.get_yaxis_transform())\n",
    "\n",
    "# Remove the Outer frame from all 4 sides\n",
    "for spine in ax.spines:\n",
    "    ax.spines[spine].set_visible(False)\n",
    "\n",
    "# Set only the Left & Bottom frames visible\n",
    "ax.spines['left'].set_visible(True)\n",
    "ax.spines['left'].set_alpha(0.3)\n",
    "ax.spines['bottom'].set_visible(True)\n",
    "ax.spines['bottom'].set_alpha(0.3)\n",
    "\n",
    "plt.show()    \n",
    "\n",
    "###     CALCULATED VALUES FOR VERIFICATION     ###\n",
    "# ----     ----------------     ----------------     -----------     -----------\n",
    "# YEAR     MEAN                 MEAN ERROR (ME)      (MEAN + ME)     (M - ME)\n",
    "# ----     ----------------     ----------------     -----------     -----------\n",
    "# 92       33312.1074755443     6510.93801801402     39823.04549     26801.16946\n",
    "# 93       41861.8595410733     3193.25484437759     45055.11439     38668.60470\n",
    "# 94       39493.3049413988     4555.32959160197     44048.63453     34937.97535\n",
    "# 95       47743.5509692670     2264.56129089468     50008.11226     45478.98968\n",
    "# ----     ----------------     ----------------     -----------     -----------"
   ]
  },
  {
   "cell_type": "markdown",
   "metadata": {},
   "source": [
    "## 5.2. Solution 2: Building a custom visualization to implement interactivity"
   ]
  },
  {
   "cell_type": "code",
   "execution_count": 7,
   "metadata": {},
   "outputs": [
    {
     "name": "stdin",
     "output_type": "stream",
     "text": [
      "Enter the 1st data point in the Y-axis range:  35000\n",
      "Enter the 2nd data point in the Y-axis range:  41000\n"
     ]
    },
    {
     "name": "stdout",
     "output_type": "stream",
     "text": [
      "\n",
      "\n"
     ]
    },
    {
     "data": {
      "image/png": "[encoded data removed]",
      "text/plain": [
       "<Figure size 432x288 with 1 Axes>"
      ]
     },
     "metadata": {
      "needs_background": "light"
     },
     "output_type": "display_data"
    }
   ],
   "source": [
    "# Draw initial bar plot and get necessary data\n",
    "click_count = 0\n",
    "fig, ax, dfT, merr, err_range = plot(df)\n",
    "update()\n",
    "\n",
    "# Set X & Y axis labels and remove unwanted ticks\n",
    "plt.gca().set_xlabel(\"Years\", fontsize='large', alpha=0.8)\n",
    "plt.gca().set_ylabel(\"Data Value\", fontsize='large', alpha=0.8)\n",
    "plt.gca().tick_params(left=True, top=False, right=False, bottom=False)\n",
    "\n",
    "# Remove the Outer frame from all 4 sides\n",
    "for spine in ax.spines:\n",
    "    plt.gca().spines[spine].set_visible(False)\n",
    "\n",
    "# Set only the Left & Bottom frames visible\n",
    "plt.gca().spines['left'].set_visible(True)\n",
    "plt.gca().spines['left'].set_alpha(0.3)\n",
    "plt.gca().spines['bottom'].set_visible(True)\n",
    "plt.gca().spines['bottom'].set_alpha(0.3)\n",
    "\n",
    "# Get the data point range from the user\n",
    "yval1 = input('Enter the 1st data point in the Y-axis range: ')\n",
    "yval1 = int(float(yval1))\n",
    "yval2 = input('Enter the 2nd data point in the Y-axis range: ')\n",
    "yval2 = int(float(yval2))\n",
    "print('\\n')\n",
    "\n",
    "'''\n",
    "# Interactive functionality code starts ...\n",
    "# The below lines of codes would work if interactive notebook is enabled in JupyterLab \n",
    "plt.gca().set_title('Click on the plot for the 1st data point in the range...', \n",
    "                    fontsize='small', color='blue')\n",
    "# Tell mpl_connect that we want to pass a 'button_press_event' onto onclick function when the event is detected\n",
    "plt.gcf().canvas.mpl_connect('button_press_event', onclick)\n",
    "# ... interactive functionality code ends\n",
    "'''\n",
    "\n",
    "oninput(yval1, yval2)"
   ]
  }
 ],
 "metadata": {
  "kernelspec": {
   "display_name": "Python 3",
   "language": "python",
   "name": "python3"
  },
  "language_info": {
   "codemirror_mode": {
    "name": "ipython",
    "version": 3
   },
   "file_extension": ".py",
   "mimetype": "text/x-python",
   "name": "python",
   "nbconvert_exporter": "python",
   "pygments_lexer": "ipython3",
   "version": "3.8.8"
  }
 },
 "nbformat": 4,
 "nbformat_minor": 4
}
