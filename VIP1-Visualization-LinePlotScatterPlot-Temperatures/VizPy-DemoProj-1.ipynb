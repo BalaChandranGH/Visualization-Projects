{
 "cells": [
  {
   "cell_type": "markdown",
   "metadata": {},
   "source": [
    "# Table of Contents\n",
    "```\n",
    "1. Business Understanding\n",
    "   1.1. Project Description\n",
    "2. Data Understanding\n",
    "   2.1. Import Libraries, Modules, Functions, Objects, etc.\n",
    "   2.2. Data Loading\n",
    "   2.3. Exploratory Data Analysis (EDA)\n",
    "        2.3.1. Understand the data with Descriptive Statistics on the raw data\n",
    "        2.3.2. Draw Univariate plots to better understand each attribute\n",
    "3. Research\n",
    "4. Data Preprocessing\n",
    "5. Visualization\n",
    "```\n",
    "   "
   ]
  },
  {
   "cell_type": "markdown",
   "metadata": {},
   "source": [
    "# 1. Business Understanding"
   ]
  },
  {
   "cell_type": "markdown",
   "metadata": {},
   "source": [
    "### 1.1. Project Description"
   ]
  },
  {
   "cell_type": "markdown",
   "metadata": {},
   "source": [
    "**`Problem Statement`**: \n",
    "\n",
    "1. The data given is near **Ann Arbor, Michigan, United States** contained in file `data/annarbor.csv`.\n",
    "2. Draw a line graph of the record high and record low temperatures by day of the year over the period 2005-2014. The area between the record high and record low temperatures for each day should be shaded.\n",
    "3. Overlay a scatter of the 2015 data for any points (highs and lows) for which the ten year record (2005-2014) record high or record low was broken in 2015.\n",
    "4. Watch out for leap days (i.e. February 29th), it is reasonable to remove these points from the dataset for the purpose of this visualization.\n",
    "\n",
    "**`Type of the problem`**: Visualization - Line graph & Scatter plot\n",
    "\n",
    "**`Data source`**: From a subset of The National Centers for Environmental Information (NCEI) [Daily Global Historical Climatology Network](https://www1.ncdc.noaa.gov/pub/data/ghcn/daily/readme.txt) (GHCN-Daily). The GHCN-Daily is comprised of daily climate records from thousands of land surface stations across the globe. \n",
    "\n",
    "**`Author`**: Balasubramanian Chandran"
   ]
  },
  {
   "cell_type": "markdown",
   "metadata": {},
   "source": [
    "# 2. Data Understanding"
   ]
  },
  {
   "cell_type": "markdown",
   "metadata": {},
   "source": [
    "## 2.1. Import Libraries, Modules, Functions, Objects, etc. "
   ]
  },
  {
   "cell_type": "code",
   "execution_count": 1,
   "metadata": {},
   "outputs": [
    {
     "name": "stdout",
     "output_type": "stream",
     "text": [
      "Python:     3.8.8 (default, Feb 24 2021, 15:54:32) [MSC v.1928 64 bit (AMD64)]\n",
      "Pandas:     1.3.2\n",
      "Matplotlib: 3.4.2\n"
     ]
    }
   ],
   "source": [
    "# Import the necessary libraries for this project\n",
    "import sys               as sys\n",
    "import numpy             as np\n",
    "import pandas            as pd\n",
    "import matplotlib        as mpl\n",
    "\n",
    "from matplotlib          import pyplot as plt\n",
    "from pandas.plotting     import scatter_matrix\n",
    "\n",
    "#  Check the versions of the imported libraries\n",
    "print(\"Python:     {}\".format(sys.version))\n",
    "print(\"Pandas:     {}\".format(pd.__version__))\n",
    "print(\"Matplotlib: {}\".format(mpl.__version__))"
   ]
  },
  {
   "cell_type": "markdown",
   "metadata": {},
   "source": [
    "## 2.2. Data Loading"
   ]
  },
  {
   "cell_type": "code",
   "execution_count": 2,
   "metadata": {},
   "outputs": [],
   "source": [
    "# Load weather data for \"Ann Arbor, Michigan, United States\"\n",
    "data_source = {\n",
    "               'filepath'   : 'data',\n",
    "               'hashid'     : 'annarbor',\n",
    "               'fileformat' : 'csv'\n",
    "              }\n",
    "\n",
    "weather_df  = pd.read_csv('{}/{}.{}'.format(data_source['filepath'],\n",
    "                                            data_source['hashid'],\n",
    "                                            data_source['fileformat']))"
   ]
  },
  {
   "cell_type": "markdown",
   "metadata": {},
   "source": [
    "## 2.3. Exploratory Data Analysis (EDA)"
   ]
  },
  {
   "cell_type": "markdown",
   "metadata": {},
   "source": [
    "### 2.3.1. Understand the data with Descriptive Statistics on the raw data"
   ]
  },
  {
   "cell_type": "code",
   "execution_count": 3,
   "metadata": {},
   "outputs": [
    {
     "name": "stdout",
     "output_type": "stream",
     "text": [
      "Dimensions of the WEATHER dataset:\n",
      "(165085, 4) \n",
      "\n"
     ]
    }
   ],
   "source": [
    "print('Dimensions of the WEATHER dataset:')\n",
    "print(weather_df.shape, '\\n')"
   ]
  },
  {
   "cell_type": "code",
   "execution_count": 4,
   "metadata": {},
   "outputs": [
    {
     "name": "stdout",
     "output_type": "stream",
     "text": [
      "First 10 rows:\n"
     ]
    },
    {
     "data": {
      "text/html": [
       "<style type=\"text/css\">\n",
       "#T_76abf_row0_col3 {\n",
       "  background-color: #afd1e7;\n",
       "  color: #000000;\n",
       "}\n",
       "#T_76abf_row1_col3 {\n",
       "  background-color: #91c3de;\n",
       "  color: #000000;\n",
       "}\n",
       "#T_76abf_row2_col3 {\n",
       "  background-color: #083776;\n",
       "  color: #f1f1f1;\n",
       "}\n",
       "#T_76abf_row3_col3 {\n",
       "  background-color: #4493c7;\n",
       "  color: #f1f1f1;\n",
       "}\n",
       "#T_76abf_row4_col3 {\n",
       "  background-color: #f7fbff;\n",
       "  color: #000000;\n",
       "}\n",
       "#T_76abf_row5_col3 {\n",
       "  background-color: #1f6eb3;\n",
       "  color: #f1f1f1;\n",
       "}\n",
       "#T_76abf_row6_col3 {\n",
       "  background-color: #3f8fc5;\n",
       "  color: #f1f1f1;\n",
       "}\n",
       "#T_76abf_row7_col3 {\n",
       "  background-color: #08306b;\n",
       "  color: #f1f1f1;\n",
       "}\n",
       "#T_76abf_row8_col3 {\n",
       "  background-color: #cadef0;\n",
       "  color: #000000;\n",
       "}\n",
       "#T_76abf_row9_col3 {\n",
       "  background-color: #7fb9da;\n",
       "  color: #000000;\n",
       "}\n",
       "</style>\n",
       "<table id=\"T_76abf_\">\n",
       "  <thead>\n",
       "    <tr>\n",
       "      <th class=\"blank level0\" >&nbsp;</th>\n",
       "      <th class=\"col_heading level0 col0\" >ID</th>\n",
       "      <th class=\"col_heading level0 col1\" >Date</th>\n",
       "      <th class=\"col_heading level0 col2\" >Element</th>\n",
       "      <th class=\"col_heading level0 col3\" >Data_Value</th>\n",
       "    </tr>\n",
       "  </thead>\n",
       "  <tbody>\n",
       "    <tr>\n",
       "      <th id=\"T_76abf_level0_row0\" class=\"row_heading level0 row0\" >0</th>\n",
       "      <td id=\"T_76abf_row0_col0\" class=\"data row0 col0\" >USW00094889</td>\n",
       "      <td id=\"T_76abf_row0_col1\" class=\"data row0 col1\" >2014-11-12</td>\n",
       "      <td id=\"T_76abf_row0_col2\" class=\"data row0 col2\" >TMAX</td>\n",
       "      <td id=\"T_76abf_row0_col3\" class=\"data row0 col3\" >22</td>\n",
       "    </tr>\n",
       "    <tr>\n",
       "      <th id=\"T_76abf_level0_row1\" class=\"row_heading level0 row1\" >1</th>\n",
       "      <td id=\"T_76abf_row1_col0\" class=\"data row1 col0\" >USC00208972</td>\n",
       "      <td id=\"T_76abf_row1_col1\" class=\"data row1 col1\" >2009-04-29</td>\n",
       "      <td id=\"T_76abf_row1_col2\" class=\"data row1 col2\" >TMIN</td>\n",
       "      <td id=\"T_76abf_row1_col3\" class=\"data row1 col3\" >56</td>\n",
       "    </tr>\n",
       "    <tr>\n",
       "      <th id=\"T_76abf_level0_row2\" class=\"row_heading level0 row2\" >2</th>\n",
       "      <td id=\"T_76abf_row2_col0\" class=\"data row2 col0\" >USC00200032</td>\n",
       "      <td id=\"T_76abf_row2_col1\" class=\"data row2 col1\" >2008-05-26</td>\n",
       "      <td id=\"T_76abf_row2_col2\" class=\"data row2 col2\" >TMAX</td>\n",
       "      <td id=\"T_76abf_row2_col3\" class=\"data row2 col3\" >278</td>\n",
       "    </tr>\n",
       "    <tr>\n",
       "      <th id=\"T_76abf_level0_row3\" class=\"row_heading level0 row3\" >3</th>\n",
       "      <td id=\"T_76abf_row3_col0\" class=\"data row3 col0\" >USC00205563</td>\n",
       "      <td id=\"T_76abf_row3_col1\" class=\"data row3 col1\" >2005-11-11</td>\n",
       "      <td id=\"T_76abf_row3_col2\" class=\"data row3 col2\" >TMAX</td>\n",
       "      <td id=\"T_76abf_row3_col3\" class=\"data row3 col3\" >139</td>\n",
       "    </tr>\n",
       "    <tr>\n",
       "      <th id=\"T_76abf_level0_row4\" class=\"row_heading level0 row4\" >4</th>\n",
       "      <td id=\"T_76abf_row4_col0\" class=\"data row4 col0\" >USC00200230</td>\n",
       "      <td id=\"T_76abf_row4_col1\" class=\"data row4 col1\" >2014-02-27</td>\n",
       "      <td id=\"T_76abf_row4_col2\" class=\"data row4 col2\" >TMAX</td>\n",
       "      <td id=\"T_76abf_row4_col3\" class=\"data row4 col3\" >-106</td>\n",
       "    </tr>\n",
       "    <tr>\n",
       "      <th id=\"T_76abf_level0_row5\" class=\"row_heading level0 row5\" >5</th>\n",
       "      <td id=\"T_76abf_row5_col0\" class=\"data row5 col0\" >USW00014833</td>\n",
       "      <td id=\"T_76abf_row5_col1\" class=\"data row5 col1\" >2010-10-01</td>\n",
       "      <td id=\"T_76abf_row5_col2\" class=\"data row5 col2\" >TMAX</td>\n",
       "      <td id=\"T_76abf_row5_col3\" class=\"data row5 col3\" >194</td>\n",
       "    </tr>\n",
       "    <tr>\n",
       "      <th id=\"T_76abf_level0_row6\" class=\"row_heading level0 row6\" >6</th>\n",
       "      <td id=\"T_76abf_row6_col0\" class=\"data row6 col0\" >USC00207308</td>\n",
       "      <td id=\"T_76abf_row6_col1\" class=\"data row6 col1\" >2010-06-29</td>\n",
       "      <td id=\"T_76abf_row6_col2\" class=\"data row6 col2\" >TMIN</td>\n",
       "      <td id=\"T_76abf_row6_col3\" class=\"data row6 col3\" >144</td>\n",
       "    </tr>\n",
       "    <tr>\n",
       "      <th id=\"T_76abf_level0_row7\" class=\"row_heading level0 row7\" >7</th>\n",
       "      <td id=\"T_76abf_row7_col0\" class=\"data row7 col0\" >USC00203712</td>\n",
       "      <td id=\"T_76abf_row7_col1\" class=\"data row7 col1\" >2005-10-04</td>\n",
       "      <td id=\"T_76abf_row7_col2\" class=\"data row7 col2\" >TMAX</td>\n",
       "      <td id=\"T_76abf_row7_col3\" class=\"data row7 col3\" >289</td>\n",
       "    </tr>\n",
       "    <tr>\n",
       "      <th id=\"T_76abf_level0_row8\" class=\"row_heading level0 row8\" >8</th>\n",
       "      <td id=\"T_76abf_row8_col0\" class=\"data row8 col0\" >USW00004848</td>\n",
       "      <td id=\"T_76abf_row8_col1\" class=\"data row8 col1\" >2007-12-14</td>\n",
       "      <td id=\"T_76abf_row8_col2\" class=\"data row8 col2\" >TMIN</td>\n",
       "      <td id=\"T_76abf_row8_col3\" class=\"data row8 col3\" >-16</td>\n",
       "    </tr>\n",
       "    <tr>\n",
       "      <th id=\"T_76abf_level0_row9\" class=\"row_heading level0 row9\" >9</th>\n",
       "      <td id=\"T_76abf_row9_col0\" class=\"data row9 col0\" >USC00200220</td>\n",
       "      <td id=\"T_76abf_row9_col1\" class=\"data row9 col1\" >2011-04-21</td>\n",
       "      <td id=\"T_76abf_row9_col2\" class=\"data row9 col2\" >TMAX</td>\n",
       "      <td id=\"T_76abf_row9_col3\" class=\"data row9 col3\" >72</td>\n",
       "    </tr>\n",
       "  </tbody>\n",
       "</table>\n"
      ],
      "text/plain": [
       "<pandas.io.formats.style.Styler at 0x22050b38910>"
      ]
     },
     "execution_count": 4,
     "metadata": {},
     "output_type": "execute_result"
    }
   ],
   "source": [
    "print('First 10 rows:')\n",
    "weather_df.head(10).style.background_gradient(cmap='Blues', axis=0)"
   ]
  },
  {
   "cell_type": "code",
   "execution_count": 5,
   "metadata": {},
   "outputs": [
    {
     "name": "stdout",
     "output_type": "stream",
     "text": [
      "Last 10 rows:\n"
     ]
    },
    {
     "data": {
      "text/html": [
       "<style type=\"text/css\">\n",
       "#T_a7418_row0_col3 {\n",
       "  background-color: #74b3d8;\n",
       "  color: #000000;\n",
       "}\n",
       "#T_a7418_row1_col3 {\n",
       "  background-color: #084184;\n",
       "  color: #f1f1f1;\n",
       "}\n",
       "#T_a7418_row2_col3 {\n",
       "  background-color: #3383be;\n",
       "  color: #f1f1f1;\n",
       "}\n",
       "#T_a7418_row3_col3 {\n",
       "  background-color: #4997c9;\n",
       "  color: #f1f1f1;\n",
       "}\n",
       "#T_a7418_row4_col3 {\n",
       "  background-color: #f7fbff;\n",
       "  color: #000000;\n",
       "}\n",
       "#T_a7418_row5_col3 {\n",
       "  background-color: #084488;\n",
       "  color: #f1f1f1;\n",
       "}\n",
       "#T_a7418_row6_col3 {\n",
       "  background-color: #3686c0;\n",
       "  color: #f1f1f1;\n",
       "}\n",
       "#T_a7418_row7_col3 {\n",
       "  background-color: #08306b;\n",
       "  color: #f1f1f1;\n",
       "}\n",
       "#T_a7418_row8_col3 {\n",
       "  background-color: #63a8d3;\n",
       "  color: #f1f1f1;\n",
       "}\n",
       "#T_a7418_row9_col3 {\n",
       "  background-color: #68acd5;\n",
       "  color: #f1f1f1;\n",
       "}\n",
       "</style>\n",
       "<table id=\"T_a7418_\">\n",
       "  <thead>\n",
       "    <tr>\n",
       "      <th class=\"blank level0\" >&nbsp;</th>\n",
       "      <th class=\"col_heading level0 col0\" >ID</th>\n",
       "      <th class=\"col_heading level0 col1\" >Date</th>\n",
       "      <th class=\"col_heading level0 col2\" >Element</th>\n",
       "      <th class=\"col_heading level0 col3\" >Data_Value</th>\n",
       "    </tr>\n",
       "  </thead>\n",
       "  <tbody>\n",
       "    <tr>\n",
       "      <th id=\"T_a7418_level0_row0\" class=\"row_heading level0 row0\" >165075</th>\n",
       "      <td id=\"T_a7418_row0_col0\" class=\"data row0 col0\" >USC00205451</td>\n",
       "      <td id=\"T_a7418_row0_col1\" class=\"data row0 col1\" >2014-10-03</td>\n",
       "      <td id=\"T_a7418_row0_col2\" class=\"data row0 col2\" >TMIN</td>\n",
       "      <td id=\"T_a7418_row0_col3\" class=\"data row0 col3\" >100</td>\n",
       "    </tr>\n",
       "    <tr>\n",
       "      <th id=\"T_a7418_level0_row1\" class=\"row_heading level0 row1\" >165076</th>\n",
       "      <td id=\"T_a7418_row1_col0\" class=\"data row1 col0\" >USC00205050</td>\n",
       "      <td id=\"T_a7418_row1_col1\" class=\"data row1 col1\" >2013-09-29</td>\n",
       "      <td id=\"T_a7418_row1_col2\" class=\"data row1 col2\" >TMAX</td>\n",
       "      <td id=\"T_a7418_row1_col3\" class=\"data row1 col3\" >261</td>\n",
       "    </tr>\n",
       "    <tr>\n",
       "      <th id=\"T_a7418_level0_row2\" class=\"row_heading level0 row2\" >165077</th>\n",
       "      <td id=\"T_a7418_row2_col0\" class=\"data row2 col0\" >USC00205050</td>\n",
       "      <td id=\"T_a7418_row2_col1\" class=\"data row2 col1\" >2014-07-14</td>\n",
       "      <td id=\"T_a7418_row2_col2\" class=\"data row2 col2\" >TMIN</td>\n",
       "      <td id=\"T_a7418_row2_col3\" class=\"data row2 col3\" >172</td>\n",
       "    </tr>\n",
       "    <tr>\n",
       "      <th id=\"T_a7418_level0_row3\" class=\"row_heading level0 row3\" >165078</th>\n",
       "      <td id=\"T_a7418_row3_col0\" class=\"data row3 col0\" >USC00200032</td>\n",
       "      <td id=\"T_a7418_row3_col1\" class=\"data row3 col1\" >2011-06-27</td>\n",
       "      <td id=\"T_a7418_row3_col2\" class=\"data row3 col2\" >TMIN</td>\n",
       "      <td id=\"T_a7418_row3_col3\" class=\"data row3 col3\" >144</td>\n",
       "    </tr>\n",
       "    <tr>\n",
       "      <th id=\"T_a7418_level0_row4\" class=\"row_heading level0 row4\" >165079</th>\n",
       "      <td id=\"T_a7418_row4_col0\" class=\"data row4 col0\" >USC00202308</td>\n",
       "      <td id=\"T_a7418_row4_col1\" class=\"data row4 col1\" >2005-03-02</td>\n",
       "      <td id=\"T_a7418_row4_col2\" class=\"data row4 col2\" >TMIN</td>\n",
       "      <td id=\"T_a7418_row4_col3\" class=\"data row4 col3\" >-67</td>\n",
       "    </tr>\n",
       "    <tr>\n",
       "      <th id=\"T_a7418_level0_row5\" class=\"row_heading level0 row5\" >165080</th>\n",
       "      <td id=\"T_a7418_row5_col0\" class=\"data row5 col0\" >USC00205822</td>\n",
       "      <td id=\"T_a7418_row5_col1\" class=\"data row5 col1\" >2015-06-09</td>\n",
       "      <td id=\"T_a7418_row5_col2\" class=\"data row5 col2\" >TMAX</td>\n",
       "      <td id=\"T_a7418_row5_col3\" class=\"data row5 col3\" >256</td>\n",
       "    </tr>\n",
       "    <tr>\n",
       "      <th id=\"T_a7418_level0_row6\" class=\"row_heading level0 row6\" >165081</th>\n",
       "      <td id=\"T_a7418_row6_col0\" class=\"data row6 col0\" >USC00205822</td>\n",
       "      <td id=\"T_a7418_row6_col1\" class=\"data row6 col1\" >2009-10-06</td>\n",
       "      <td id=\"T_a7418_row6_col2\" class=\"data row6 col2\" >TMAX</td>\n",
       "      <td id=\"T_a7418_row6_col3\" class=\"data row6 col3\" >167</td>\n",
       "    </tr>\n",
       "    <tr>\n",
       "      <th id=\"T_a7418_level0_row7\" class=\"row_heading level0 row7\" >165082</th>\n",
       "      <td id=\"T_a7418_row7_col0\" class=\"data row7 col0\" >USC00205050</td>\n",
       "      <td id=\"T_a7418_row7_col1\" class=\"data row7 col1\" >2014-07-14</td>\n",
       "      <td id=\"T_a7418_row7_col2\" class=\"data row7 col2\" >TMAX</td>\n",
       "      <td id=\"T_a7418_row7_col3\" class=\"data row7 col3\" >283</td>\n",
       "    </tr>\n",
       "    <tr>\n",
       "      <th id=\"T_a7418_level0_row8\" class=\"row_heading level0 row8\" >165083</th>\n",
       "      <td id=\"T_a7418_row8_col0\" class=\"data row8 col0\" >USC00200230</td>\n",
       "      <td id=\"T_a7418_row8_col1\" class=\"data row8 col1\" >2006-11-29</td>\n",
       "      <td id=\"T_a7418_row8_col2\" class=\"data row8 col2\" >TMIN</td>\n",
       "      <td id=\"T_a7418_row8_col3\" class=\"data row8 col3\" >117</td>\n",
       "    </tr>\n",
       "    <tr>\n",
       "      <th id=\"T_a7418_level0_row9\" class=\"row_heading level0 row9\" >165084</th>\n",
       "      <td id=\"T_a7418_row9_col0\" class=\"data row9 col0\" >USC00207312</td>\n",
       "      <td id=\"T_a7418_row9_col1\" class=\"data row9 col1\" >2006-09-04</td>\n",
       "      <td id=\"T_a7418_row9_col2\" class=\"data row9 col2\" >TMIN</td>\n",
       "      <td id=\"T_a7418_row9_col3\" class=\"data row9 col3\" >111</td>\n",
       "    </tr>\n",
       "  </tbody>\n",
       "</table>\n"
      ],
      "text/plain": [
       "<pandas.io.formats.style.Styler at 0x2207ba97b80>"
      ]
     },
     "execution_count": 5,
     "metadata": {},
     "output_type": "execute_result"
    }
   ],
   "source": [
    "print('Last 10 rows:')\n",
    "weather_df.tail(10).style.background_gradient(cmap='Blues', axis=0)"
   ]
  },
  {
   "cell_type": "code",
   "execution_count": 6,
   "metadata": {},
   "outputs": [
    {
     "name": "stdout",
     "output_type": "stream",
     "text": [
      "Statistical summary of the WEATHER dataset:\n",
      "          Data_Value\n",
      "count  165085.000000\n",
      "mean       95.422116\n",
      "std       123.515131\n",
      "min      -343.000000\n",
      "25%         0.000000\n",
      "50%        94.000000\n",
      "75%       189.000000\n",
      "max       406.000000 \n",
      "\n",
      "Number of Stations recording weather data each day:  24 \n",
      "\n",
      "Station IDs: \n",
      " ['USW00094889' 'USC00208972' 'USC00200032' 'USC00205563' 'USC00200230'\n",
      " 'USW00014833' 'USC00207308' 'USC00203712' 'USW00004848' 'USC00200220'\n",
      " 'USC00205822' 'USC00200842' 'USC00205450' 'USC00201250' 'USC00207320'\n",
      " 'USC00200228' 'USC00202308' 'USW00014853' 'USC00205050' 'USC00208202'\n",
      " 'USC00208080' 'USC00207312' 'USC00205451' 'USC00201502'] \n",
      "\n"
     ]
    }
   ],
   "source": [
    "print('Statistical summary of the WEATHER dataset:')\n",
    "print(weather_df.describe(), '\\n')\n",
    "print('Number of Stations recording weather data each day: ', len(weather_df['ID'].unique()), '\\n')\n",
    "print('Station IDs: \\n', weather_df['ID'].unique(), '\\n')"
   ]
  },
  {
   "cell_type": "markdown",
   "metadata": {},
   "source": [
    "### 2.3.2. Draw Univariate plots to better understand each attribute"
   ]
  },
  {
   "cell_type": "code",
   "execution_count": 7,
   "metadata": {},
   "outputs": [
    {
     "name": "stdout",
     "output_type": "stream",
     "text": [
      "Univariate - Box and Whisker plots:\n"
     ]
    },
    {
     "data": {
      "image/png": "[encoded data removed]",
      "text/plain": [
       "<Figure size 432x288 with 9 Axes>"
      ]
     },
     "metadata": {
      "needs_background": "light"
     },
     "output_type": "display_data"
    },
    {
     "name": "stdout",
     "output_type": "stream",
     "text": [
      "Univariate - Histograms:\n"
     ]
    },
    {
     "data": {
      "image/png": "[encoded data removed]",
      "text/plain": [
       "<Figure size 432x288 with 1 Axes>"
      ]
     },
     "metadata": {
      "needs_background": "light"
     },
     "output_type": "display_data"
    }
   ],
   "source": [
    "print('Univariate - Box and Whisker plots:')\n",
    "weather_df.plot(kind='box', subplots=True, layout=(3,3), sharex=False, sharey=False)\n",
    "plt.show()\n",
    "print('Univariate - Histograms:')\n",
    "weather_df.hist()\n",
    "plt.show()"
   ]
  },
  {
   "cell_type": "markdown",
   "metadata": {},
   "source": [
    "# 3. Research"
   ]
  },
  {
   "cell_type": "markdown",
   "metadata": {},
   "source": [
    "During this stage, a study on the type(s) of graphs/ charts/ plots to be used is determined. In this project, the line chart and scatter-matrix are given as part of the problem statement itself. Hence, no stydy needs to be done."
   ]
  },
  {
   "cell_type": "markdown",
   "metadata": {},
   "source": [
    "# 4. Data Preprocessing"
   ]
  },
  {
   "cell_type": "markdown",
   "metadata": {},
   "source": [
    "During this stage, prepare the data required for visualizations."
   ]
  },
  {
   "cell_type": "code",
   "execution_count": 8,
   "metadata": {},
   "outputs": [],
   "source": [
    "# Convert all the 10th of Celcius in Data_Values to °C\n",
    "weather_df['Data_Value'] = weather_df['Data_Value'] / 10\n",
    "\n",
    "# Sort the df by Station IDs & by Date\n",
    "#weather_df.sort(['ID', 'Date'], ascending=True, inplace=True)\n",
    "\n",
    "# Create Year & Month-Day columns\n",
    "weather_df['Year'], weather_df['Month-Day'] = zip(*weather_df['Date'].apply(lambda x: (x[:4], x[5:])))\n",
    "\n",
    "# Drop the Leap days\n",
    "weather_df = weather_df[weather_df['Month-Day'] != '02-29']\n",
    "\n",
    "# Get the Max & Min recorded tempratures, across all stations, for each day, for the years 2005-2014 & 2015\n",
    "df0514_max = weather_df[(weather_df['Year'] != '2015') & (weather_df['Element'] == 'TMAX')].groupby('Month-Day').aggregate({'Data_Value': np.max})\n",
    "df0514_min = weather_df[(weather_df['Year'] != '2015') & (weather_df['Element'] == 'TMIN')].groupby('Month-Day').aggregate({'Data_Value': np.min})\n",
    "df15_max   = weather_df[(weather_df['Year'] == '2015') & (weather_df['Element'] == 'TMAX')].groupby('Month-Day').aggregate({'Data_Value': np.max})\n",
    "df15_min   = weather_df[(weather_df['Year'] == '2015') & (weather_df['Element'] == 'TMIN')].groupby('Month-Day').aggregate({'Data_Value': np.min})\n",
    "\n",
    "# Get the record breaking tempratures in 2015 compared to 2005-2014\n",
    "df15_recbrk_max = np.where(df15_max['Data_Value'] > df0514_max['Data_Value'])\n",
    "df15_recbrk_min = np.where(df15_min['Data_Value'] < df0514_min['Data_Value'])"
   ]
  },
  {
   "cell_type": "markdown",
   "metadata": {},
   "source": [
    "# 5. Visualization"
   ]
  },
  {
   "cell_type": "code",
   "execution_count": 9,
   "metadata": {},
   "outputs": [
    {
     "data": {
      "image/png": "[encoded data removed]",
      "text/plain": [
       "<Figure size 864x720 with 2 Axes>"
      ]
     },
     "metadata": {
      "needs_background": "light"
     },
     "output_type": "display_data"
    }
   ],
   "source": [
    "plt.figure(figsize= (12,10))\n",
    "ax1 = plt.gca()    # Get the Primary axis\n",
    "ax2 = ax1.twinx()  # Get the Secondary axis\n",
    "\n",
    "# Draw the Line plots for the Min & Max tempratures for the years 2005 - 2014\n",
    "ax2.plot(df0514_max.values, '-', color = 'r', linewidth = 1, label = 'High (2005-2014)', alpha = 0.4)\n",
    "ax2.plot(df0514_min.values, '-', color = 'b', linewidth = 1, label = 'Low (2005-2014)', alpha = 0.4)\n",
    "\n",
    "# Draw the Scatter plot for the record breaking tempratures for the year 2015\n",
    "plt.scatter(df15_recbrk_max, df15_max.iloc[df15_recbrk_max], s = 12, c = 'r', label = 'Record High (2015)')\n",
    "plt.scatter(df15_recbrk_min, df15_min.iloc[df15_recbrk_min], s = 12, c = 'b', label = 'Record Low (2015)')\n",
    "\n",
    "# Shade between the Line plots for the Min and Max tempratures\n",
    "ax2.fill_between(range(len(df0514_min)), df0514_min['Data_Value'], df0514_max['Data_Value'], \n",
    "                       facecolor = 'blue', alpha = 0.2)\n",
    "\n",
    "# Set the Title, Legends & Labels for X-axis & Y-axis\n",
    "ax1.grid(True, alpha = 0.2)\n",
    "ax1.set_title('HIGH, LOW and RECORD BREAKING TEMPERATURES \\n (Ann Arbor, Michigan, USA)', fontsize = 'large', alpha = 0.8)\n",
    "ax1.set_xlabel('Month', fontsize = 'large', alpha = 0.8)\n",
    "ax1.set_ylabel('Temperature', fontsize = 'large', alpha = 0.8)\n",
    "ax2.legend(loc = 4, labels = ['High (2005-2014)','Low (2005-2014)','Record High (2015)','Record Low (2015)'], \n",
    "           fontsize = 'small', frameon = False)\n",
    "\n",
    "# Set the Limits, Ticks and Tick-Labels for the X-axis\n",
    "# Set X ticks at [1, 32, 60, 91, 121, 152, 182, 213, 244, 274, 305, 335]\n",
    "xticks = ((pd.date_range('1/1/2015', periods = 12, freq = 'M')) + pd.Timedelta('1D')).strftime('%j').astype(int).sort_values()\n",
    "# Set X tick values as ['Jan', 'Feb', 'Mar', 'Apr', 'May', 'Jun', 'Jul', 'Aug', 'Sep', 'Oct', 'Nov', 'Dec']\n",
    "xticklabels = pd.to_datetime(xticks, format = '%j').strftime('%b')\n",
    "ax2.set_xlim(1,365)\n",
    "ax2.set_xticks(xticks)\n",
    "ax1.set_xticklabels(xticklabels, fontsize = 'medium', alpha = 0.6)\n",
    "\n",
    "# Set the Limits, Ticks and Tick-Labels for the Primary Y-axis\n",
    "axlim = ax1.set_ylim(-50,50)\n",
    "yticks = pd.Series([-40, -20, 0, 20, 40])\n",
    "yticklabels_ax1 = pd.Series(yticks).astype(int).astype(str) + ' °C'\n",
    "ax1.set_yticks(yticks)\n",
    "ax1.set_yticklabels(yticklabels_ax1, fontsize = 'medium', alpha = 0.6)\n",
    "\n",
    "# Set the Limits, Ticks and Tick-Labels for the Secondary Y-axis, and Convert Celcius to Fahrenheit\n",
    "ax2.set_ylim(axlim)\n",
    "ax2.set_yticks(yticks)\n",
    "yticklabels_ax2 = (yticks * (9/5) + 32).astype(int)\n",
    "yticklabels_ax2 = pd.Series(yticklabels_ax2).astype(int).astype(str) + ' °F'\n",
    "ax2.set_yticklabels(yticklabels_ax2, fontsize = 'medium', alpha = 0.6) \n",
    "\n",
    "# Remove Ticks from both Primary and Secondary axes\n",
    "ax1.tick_params(axis=u'both', which=u'both',length=0)\n",
    "ax2.tick_params(axis=u'both', which=u'both',length=0)\n",
    "\n",
    "# Remove the Outer frame from all 4 sides\n",
    "for spine in ax1.spines:\n",
    "    ax1.spines[spine].set_visible(False)\n",
    "for spine in ax2.spines:\n",
    "    ax2.spines[spine].set_visible(False)\n",
    "\n",
    "# Set only the Bottom frame visible\n",
    "ax1.spines['bottom'].set_visible(True)\n",
    "ax1.spines['bottom'].set_alpha(0.2)\n",
    "\n",
    "plt.show()"
   ]
  }
 ],
 "metadata": {
  "kernelspec": {
   "display_name": "Python 3",
   "language": "python",
   "name": "python3"
  },
  "language_info": {
   "codemirror_mode": {
    "name": "ipython",
    "version": 3
   },
   "file_extension": ".py",
   "mimetype": "text/x-python",
   "name": "python",
   "nbconvert_exporter": "python",
   "pygments_lexer": "ipython3",
   "version": "3.8.8"
  }
 },
 "nbformat": 4,
 "nbformat_minor": 4
}
